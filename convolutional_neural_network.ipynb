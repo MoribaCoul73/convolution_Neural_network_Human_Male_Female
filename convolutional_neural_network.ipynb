{
  "cells": [
    {
      "cell_type": "markdown",
      "metadata": {
        "colab_type": "text",
        "id": "3DR-eO17geWu"
      },
      "source": [
        "# Convolutional Neural Network"
      ]
    },
    {
      "cell_type": "markdown",
      "metadata": {
        "colab_type": "text",
        "id": "EMefrVPCg-60"
      },
      "source": [
        "### Importing the libraries"
      ]
    },
    {
      "cell_type": "code",
      "execution_count": 2,
      "metadata": {
        "colab": {},
        "colab_type": "code",
        "id": "sCV30xyVhFbE"
      },
      "outputs": [],
      "source": [
        "import tensorflow as tf\n",
        "from keras.preprocessing.image import ImageDataGenerator\n",
        "import matplotlib.pyplot as plt\n",
        "import matplotlib.image as mpimg\n"
      ]
    },
    {
      "cell_type": "code",
      "execution_count": 2,
      "metadata": {
        "colab": {},
        "colab_type": "code",
        "id": "FIleuCAjoFD8"
      },
      "outputs": [
        {
          "data": {
            "text/plain": [
              "'2.9.1'"
            ]
          },
          "execution_count": 2,
          "metadata": {},
          "output_type": "execute_result"
        }
      ],
      "source": [
        "tf.__version__"
      ]
    },
    {
      "cell_type": "markdown",
      "metadata": {},
      "source": [
        "## Part 0: one hot encoder"
      ]
    },
    {
      "cell_type": "code",
      "execution_count": null,
      "metadata": {},
      "outputs": [],
      "source": []
    },
    {
      "cell_type": "markdown",
      "metadata": {
        "colab_type": "text",
        "id": "oxQxCBWyoGPE"
      },
      "source": [
        "## Part 1 - Data Preprocessing"
      ]
    },
    {
      "cell_type": "markdown",
      "metadata": {
        "colab_type": "text",
        "id": "MvE-heJNo3GG"
      },
      "source": [
        "### Preprocessing the Training set"
      ]
    },
    {
      "cell_type": "code",
      "execution_count": 3,
      "metadata": {
        "colab": {},
        "colab_type": "code",
        "id": "0koUcJMJpEBD"
      },
      "outputs": [
        {
          "name": "stdout",
          "output_type": "stream",
          "text": [
            "Found 29149 images belonging to 2 classes.\n",
            "<keras.preprocessing.image.DirectoryIterator object at 0x7fa4a060b280>\n"
          ]
        }
      ],
      "source": [
        "train_datagen = ImageDataGenerator(rescale = 1./255,\n",
        "                                   shear_range = 0.2,\n",
        "                                   zoom_range = 0.2,\n",
        "                                   horizontal_flip = True)\n",
        "training_set = train_datagen.flow_from_directory('dataset/training_set',\n",
        "                                                 target_size = (64, 64),\n",
        "                                                 batch_size = 128,\n",
        "                                                 class_mode = 'binary')\n",
        "print(training_set)"
      ]
    },
    {
      "cell_type": "markdown",
      "metadata": {
        "colab_type": "text",
        "id": "mrCMmGw9pHys"
      },
      "source": [
        "### Preprocessing the Test set"
      ]
    },
    {
      "cell_type": "code",
      "execution_count": 4,
      "metadata": {
        "colab": {},
        "colab_type": "code",
        "id": "SH4WzfOhpKc3"
      },
      "outputs": [
        {
          "name": "stdout",
          "output_type": "stream",
          "text": [
            "Found 5418 images belonging to 2 classes.\n"
          ]
        }
      ],
      "source": [
        "test_datagen = ImageDataGenerator(rescale = 1./255)\n",
        "test_set = test_datagen.flow_from_directory('dataset/test_set',\n",
        "                                            target_size = (64, 64),\n",
        "                                            batch_size = 128,\n",
        "                                            class_mode = 'binary')\n",
        "plt.show()"
      ]
    },
    {
      "cell_type": "markdown",
      "metadata": {
        "colab_type": "text",
        "id": "af8O4l90gk7B"
      },
      "source": [
        "## Part 2 - Building the CNN"
      ]
    },
    {
      "cell_type": "markdown",
      "metadata": {
        "colab_type": "text",
        "id": "ces1gXY2lmoX"
      },
      "source": [
        "### Initialising the CNN"
      ]
    },
    {
      "cell_type": "code",
      "execution_count": 5,
      "metadata": {
        "colab": {},
        "colab_type": "code",
        "id": "SAUt4UMPlhLS"
      },
      "outputs": [
        {
          "name": "stderr",
          "output_type": "stream",
          "text": [
            "2022-11-09 16:05:28.496548: I tensorflow/core/platform/cpu_feature_guard.cc:193] This TensorFlow binary is optimized with oneAPI Deep Neural Network Library (oneDNN) to use the following CPU instructions in performance-critical operations:  SSE4.1 SSE4.2\n",
            "To enable them in other operations, rebuild TensorFlow with the appropriate compiler flags.\n"
          ]
        }
      ],
      "source": [
        "cnn = tf.keras.models.Sequential()"
      ]
    },
    {
      "cell_type": "markdown",
      "metadata": {
        "colab_type": "text",
        "id": "u5YJj_XMl5LF"
      },
      "source": [
        "### Step 1 - Convolution"
      ]
    },
    {
      "cell_type": "code",
      "execution_count": 6,
      "metadata": {
        "colab": {},
        "colab_type": "code",
        "id": "XPzPrMckl-hV"
      },
      "outputs": [],
      "source": [
        "cnn.add(tf.keras.layers.Conv2D(filters=32, kernel_size=3, activation='relu', input_shape=[64, 64, 3]))"
      ]
    },
    {
      "cell_type": "markdown",
      "metadata": {
        "colab_type": "text",
        "id": "tf87FpvxmNOJ"
      },
      "source": [
        "### Step 2 - Pooling"
      ]
    },
    {
      "cell_type": "code",
      "execution_count": 7,
      "metadata": {
        "colab": {},
        "colab_type": "code",
        "id": "ncpqPl69mOac"
      },
      "outputs": [],
      "source": [
        "cnn.add(tf.keras.layers.MaxPool2D(pool_size=2, strides=2))"
      ]
    },
    {
      "cell_type": "markdown",
      "metadata": {
        "colab_type": "text",
        "id": "xaTOgD8rm4mU"
      },
      "source": [
        "### Adding a second convolutional layer"
      ]
    },
    {
      "cell_type": "code",
      "execution_count": 8,
      "metadata": {
        "colab": {},
        "colab_type": "code",
        "id": "i_-FZjn_m8gk"
      },
      "outputs": [],
      "source": [
        "cnn.add(tf.keras.layers.Conv2D(filters=32, kernel_size=3, activation='relu'))\n",
        "cnn.add(tf.keras.layers.MaxPool2D(pool_size=2, strides=2))"
      ]
    },
    {
      "cell_type": "code",
      "execution_count": 9,
      "metadata": {},
      "outputs": [],
      "source": [
        "cnn.add(tf.keras.layers.Conv2D(filters=32, kernel_size=3, activation='relu'))\n",
        "cnn.add(tf.keras.layers.MaxPool2D(pool_size=2, strides=2))"
      ]
    },
    {
      "cell_type": "markdown",
      "metadata": {
        "colab_type": "text",
        "id": "tmiEuvTunKfk"
      },
      "source": [
        "### Step 3 - Flattening"
      ]
    },
    {
      "cell_type": "code",
      "execution_count": 10,
      "metadata": {
        "colab": {},
        "colab_type": "code",
        "id": "6AZeOGCvnNZn"
      },
      "outputs": [],
      "source": [
        "cnn.add(tf.keras.layers.Flatten())"
      ]
    },
    {
      "cell_type": "markdown",
      "metadata": {
        "colab_type": "text",
        "id": "dAoSECOm203v"
      },
      "source": [
        "### Step 4 - Full Connection"
      ]
    },
    {
      "cell_type": "code",
      "execution_count": 11,
      "metadata": {
        "colab": {},
        "colab_type": "code",
        "id": "8GtmUlLd26Nq"
      },
      "outputs": [],
      "source": [
        "cnn.add(tf.keras.layers.Dense(units=128, activation='relu'))"
      ]
    },
    {
      "cell_type": "markdown",
      "metadata": {
        "colab_type": "text",
        "id": "yTldFvbX28Na"
      },
      "source": [
        "### Step 5 - Output Layer"
      ]
    },
    {
      "cell_type": "code",
      "execution_count": 12,
      "metadata": {
        "colab": {},
        "colab_type": "code",
        "id": "1p_Zj1Mc3Ko_"
      },
      "outputs": [],
      "source": [
        "cnn.add(tf.keras.layers.Dense(units=1, activation='sigmoid'))"
      ]
    },
    {
      "cell_type": "markdown",
      "metadata": {
        "colab_type": "text",
        "id": "D6XkI90snSDl"
      },
      "source": [
        "## Part 3 - Training the CNN"
      ]
    },
    {
      "cell_type": "markdown",
      "metadata": {
        "colab_type": "text",
        "id": "vfrFQACEnc6i"
      },
      "source": [
        "### Compiling the CNN"
      ]
    },
    {
      "cell_type": "code",
      "execution_count": 13,
      "metadata": {
        "colab": {},
        "colab_type": "code",
        "id": "NALksrNQpUlJ"
      },
      "outputs": [],
      "source": [
        "cnn.compile(optimizer = 'adam', loss = 'binary_crossentropy', metrics = ['accuracy'])"
      ]
    },
    {
      "cell_type": "markdown",
      "metadata": {
        "colab_type": "text",
        "id": "ehS-v3MIpX2h"
      },
      "source": [
        "### Training the CNN on the Training set and evaluating it on the Test set"
      ]
    },
    {
      "cell_type": "code",
      "execution_count": 14,
      "metadata": {
        "colab": {},
        "colab_type": "code",
        "id": "XUj1W4PJptta"
      },
      "outputs": [
        {
          "name": "stdout",
          "output_type": "stream",
          "text": [
            "Epoch 1/25\n",
            "228/228 [==============================] - ETA: 0s - loss: 0.4998 - accuracy: 0.7498"
          ]
        },
        {
          "name": "stderr",
          "output_type": "stream",
          "text": [
            "/Users/moribacoulibaly/opt/anaconda3/envs/anaconda/lib/python3.9/site-packages/PIL/Image.py:959: UserWarning: Palette images with Transparency expressed in bytes should be converted to RGBA images\n",
            "  warnings.warn(\n"
          ]
        },
        {
          "name": "stdout",
          "output_type": "stream",
          "text": [
            "228/228 [==============================] - 174s 761ms/step - loss: 0.4998 - accuracy: 0.7498 - val_loss: 0.6732 - val_accuracy: 0.6205\n",
            "Epoch 2/25\n",
            "228/228 [==============================] - 170s 749ms/step - loss: 0.3552 - accuracy: 0.8450 - val_loss: 0.6377 - val_accuracy: 0.6812\n",
            "Epoch 3/25\n",
            "228/228 [==============================] - 172s 758ms/step - loss: 0.3016 - accuracy: 0.8711 - val_loss: 0.6342 - val_accuracy: 0.6907\n",
            "Epoch 4/25\n",
            "228/228 [==============================] - 176s 772ms/step - loss: 0.2681 - accuracy: 0.8878 - val_loss: 0.7072 - val_accuracy: 0.6827\n",
            "Epoch 5/25\n",
            "228/228 [==============================] - 914s 4s/step - loss: 0.2504 - accuracy: 0.8950 - val_loss: 0.6237 - val_accuracy: 0.7115\n",
            "Epoch 6/25\n",
            "228/228 [==============================] - 232s 1s/step - loss: 0.2311 - accuracy: 0.9047 - val_loss: 0.6322 - val_accuracy: 0.7259\n",
            "Epoch 7/25\n",
            "228/228 [==============================] - 166s 731ms/step - loss: 0.2224 - accuracy: 0.9079 - val_loss: 0.6589 - val_accuracy: 0.7219\n",
            "Epoch 8/25\n",
            "228/228 [==============================] - 171s 752ms/step - loss: 0.2098 - accuracy: 0.9146 - val_loss: 0.6350 - val_accuracy: 0.7163\n",
            "Epoch 9/25\n",
            "228/228 [==============================] - 219s 964ms/step - loss: 0.2012 - accuracy: 0.9178 - val_loss: 0.7713 - val_accuracy: 0.7302\n",
            "Epoch 10/25\n",
            "228/228 [==============================] - 643s 3s/step - loss: 0.1935 - accuracy: 0.9221 - val_loss: 0.6934 - val_accuracy: 0.7148\n",
            "Epoch 11/25\n",
            "228/228 [==============================] - 262s 1s/step - loss: 0.1854 - accuracy: 0.9272 - val_loss: 0.8146 - val_accuracy: 0.7243\n",
            "Epoch 12/25\n",
            "228/228 [==============================] - 772s 3s/step - loss: 0.1825 - accuracy: 0.9269 - val_loss: 0.6570 - val_accuracy: 0.7409\n",
            "Epoch 13/25\n",
            "228/228 [==============================] - 4698s 21s/step - loss: 0.1738 - accuracy: 0.9302 - val_loss: 0.7354 - val_accuracy: 0.7479\n",
            "Epoch 14/25\n",
            "228/228 [==============================] - 694s 3s/step - loss: 0.1716 - accuracy: 0.9323 - val_loss: 0.5931 - val_accuracy: 0.7530\n",
            "Epoch 15/25\n",
            "228/228 [==============================] - 690s 3s/step - loss: 0.1670 - accuracy: 0.9353 - val_loss: 0.7682 - val_accuracy: 0.7405\n",
            "Epoch 16/25\n",
            "228/228 [==============================] - 647s 3s/step - loss: 0.1613 - accuracy: 0.9364 - val_loss: 0.7394 - val_accuracy: 0.7453\n",
            "Epoch 17/25\n",
            "228/228 [==============================] - 737s 3s/step - loss: 0.1560 - accuracy: 0.9383 - val_loss: 0.6223 - val_accuracy: 0.7724\n",
            "Epoch 18/25\n",
            "228/228 [==============================] - 1603s 7s/step - loss: 0.1531 - accuracy: 0.9401 - val_loss: 0.8134 - val_accuracy: 0.7252\n",
            "Epoch 19/25\n",
            "228/228 [==============================] - 12907s 57s/step - loss: 0.1454 - accuracy: 0.9443 - val_loss: 0.9298 - val_accuracy: 0.7283\n",
            "Epoch 20/25\n",
            "228/228 [==============================] - 22842s 101s/step - loss: 0.1452 - accuracy: 0.9450 - val_loss: 0.8511 - val_accuracy: 0.7318\n",
            "Epoch 21/25\n",
            "228/228 [==============================] - 20819s 92s/step - loss: 0.1401 - accuracy: 0.9464 - val_loss: 0.7566 - val_accuracy: 0.7534\n",
            "Epoch 22/25\n",
            "228/228 [==============================] - 210s 925ms/step - loss: 0.1412 - accuracy: 0.9448 - val_loss: 0.9520 - val_accuracy: 0.7315\n",
            "Epoch 23/25\n",
            "228/228 [==============================] - 169s 741ms/step - loss: 0.1373 - accuracy: 0.9474 - val_loss: 0.9958 - val_accuracy: 0.7268\n",
            "Epoch 24/25\n",
            "228/228 [==============================] - 168s 739ms/step - loss: 0.1337 - accuracy: 0.9481 - val_loss: 0.9697 - val_accuracy: 0.7200\n",
            "Epoch 25/25\n",
            "228/228 [==============================] - 178s 781ms/step - loss: 0.1314 - accuracy: 0.9496 - val_loss: 0.8073 - val_accuracy: 0.7505\n"
          ]
        },
        {
          "data": {
            "text/plain": [
              "<keras.callbacks.History at 0x7fa49103f280>"
            ]
          },
          "execution_count": 14,
          "metadata": {},
          "output_type": "execute_result"
        }
      ],
      "source": [
        "cnn.fit(x = training_set, validation_data = test_set, epochs = 25)"
      ]
    },
    {
      "cell_type": "markdown",
      "metadata": {
        "colab_type": "text",
        "id": "U3PZasO0006Z"
      },
      "source": [
        "## Part 4 - Making a single prediction"
      ]
    },
    {
      "cell_type": "code",
      "execution_count": 65,
      "metadata": {
        "colab": {},
        "colab_type": "code",
        "id": "gsSiWEJY1BPB"
      },
      "outputs": [
        {
          "name": "stdout",
          "output_type": "stream",
          "text": [
            "1/1 [==============================] - 0s 181ms/step\n"
          ]
        }
      ],
      "source": [
        "import numpy as np\n",
        "from tensorflow.keras.preprocessing import image\n",
        "import keras\n",
        "from PIL import Image\n",
        "\n",
        "\n",
        "\n",
        "test_image = image.load_img('dataset/single_prediction/48.jpeg', target_size = (64, 64))\n",
        "test_image = image.img_to_array(test_image)\n",
        "test_image = np.expand_dims(test_image, axis = 0)\n",
        "result = cnn.predict(test_image)\n",
        "training_set.class_indices\n",
        "if result[0][0] == 1:\n",
        "  prediction = 'woman'\n",
        "else:\n",
        "  prediction = 'man'"
      ]
    },
    {
      "cell_type": "markdown",
      "metadata": {},
      "source": []
    },
    {
      "cell_type": "code",
      "execution_count": 66,
      "metadata": {
        "colab": {},
        "colab_type": "code",
        "id": "ED9KB3I54c1i"
      },
      "outputs": [
        {
          "name": "stdout",
          "output_type": "stream",
          "text": [
            "woman\n"
          ]
        }
      ],
      "source": [
        "print(prediction)"
      ]
    },
    {
      "cell_type": "code",
      "execution_count": 68,
      "metadata": {},
      "outputs": [
        {
          "name": "stderr",
          "output_type": "stream",
          "text": [
            "WARNING:absl:Found untraced functions such as _jit_compiled_convolution_op, _jit_compiled_convolution_op, _jit_compiled_convolution_op while saving (showing 3 of 3). These functions will not be directly callable after loading.\n"
          ]
        },
        {
          "name": "stdout",
          "output_type": "stream",
          "text": [
            "INFO:tensorflow:Assets written to: test1/assets\n"
          ]
        },
        {
          "name": "stderr",
          "output_type": "stream",
          "text": [
            "INFO:tensorflow:Assets written to: test1/assets\n"
          ]
        }
      ],
      "source": [
        "cnn.save('test1')"
      ]
    },
    {
      "cell_type": "code",
      "execution_count": 3,
      "metadata": {},
      "outputs": [
        {
          "name": "stderr",
          "output_type": "stream",
          "text": [
            "2022-11-24 11:40:27.300414: I tensorflow/core/platform/cpu_feature_guard.cc:193] This TensorFlow binary is optimized with oneAPI Deep Neural Network Library (oneDNN) to use the following CPU instructions in performance-critical operations:  SSE4.1 SSE4.2\n",
            "To enable them in other operations, rebuild TensorFlow with the appropriate compiler flags.\n"
          ]
        }
      ],
      "source": [
        "model = tf.keras.models.load_model('test1')"
      ]
    },
    {
      "cell_type": "code",
      "execution_count": 20,
      "metadata": {},
      "outputs": [
        {
          "name": "stdout",
          "output_type": "stream",
          "text": [
            "<PIL.Image.Image image mode=RGB size=64x64 at 0x7FC8A022C0D0>\n",
            "1/1 [==============================] - 0s 118ms/step\n",
            "[[1.]]\n"
          ]
        }
      ],
      "source": [
        "import numpy as np\n",
        "from tensorflow.keras.preprocessing import image\n",
        "import keras\n",
        "from PIL import Image\n",
        "\n",
        "\n",
        "\n",
        "test_image = image.load_img('dataset/single_prediction/50.jpg', target_size = (64, 64))\n",
        "print(test_image)\n",
        "test_image = image.img_to_array(test_image)\n",
        "test_image = np.expand_dims(test_image, axis = 0)\n",
        "result = model.predict(test_image)\n",
        "print(result)\n",
        "\n",
        "if result[0][0] == 1:\n",
        "  prediction = 'woman'\n",
        "else:\n",
        "  prediction = 'man'"
      ]
    },
    {
      "cell_type": "code",
      "execution_count": 17,
      "metadata": {},
      "outputs": [
        {
          "name": "stdout",
          "output_type": "stream",
          "text": [
            "man\n"
          ]
        }
      ],
      "source": [
        "print(prediction)"
      ]
    }
  ],
  "metadata": {
    "colab": {
      "collapsed_sections": [],
      "name": "convolutional_neural_network.ipynb",
      "provenance": [],
      "toc_visible": true
    },
    "kernelspec": {
      "display_name": "Python 3.9.12 ('anaconda')",
      "language": "python",
      "name": "python3"
    },
    "language_info": {
      "codemirror_mode": {
        "name": "ipython",
        "version": 3
      },
      "file_extension": ".py",
      "mimetype": "text/x-python",
      "name": "python",
      "nbconvert_exporter": "python",
      "pygments_lexer": "ipython3",
      "version": "3.9.12"
    },
    "vscode": {
      "interpreter": {
        "hash": "b89f22da92f8b7f93f15ce6a4cafe8e6f60c75c1f38db898ae19a09f5ce696c5"
      }
    }
  },
  "nbformat": 4,
  "nbformat_minor": 0
}
